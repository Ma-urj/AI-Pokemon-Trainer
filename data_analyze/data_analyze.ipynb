{
 "cells": [
  {
   "cell_type": "code",
   "execution_count": 36,
   "metadata": {},
   "outputs": [],
   "source": [
    "import json\n",
    "from pathlib import Path\n",
    "import numpy as np\n",
    "import matplotlib.pyplot as plt\n",
    "from scipy.stats import norm"
   ]
  },
  {
   "cell_type": "code",
   "execution_count": 37,
   "metadata": {},
   "outputs": [],
   "source": [
    "def get_rounds(data_list):\n",
    "    res = []\n",
    "    for data in data_list:\n",
    "        rounds_count = 0  \n",
    "        for battle in data:  \n",
    "            Flag = True\n",
    "            for operation in battle[\"rounds\"][-1][\"operation_history\"]:\n",
    "                if operation[\"operation\"]==\"run\":\n",
    "                    Flag = False\n",
    "            if Flag:\n",
    "                rounds_count+=1\n",
    "        res.append(rounds_count)\n",
    "    return res"
   ]
  },
  {
   "cell_type": "code",
   "execution_count": 38,
   "metadata": {},
   "outputs": [],
   "source": [
    "def get_sub_battle(data_list):\n",
    "    res = []\n",
    "    for data in data_list:\n",
    "        battle_count = 0\n",
    "        for battle in data:\n",
    "            for op in battle[\"rounds\"][-1][\"operation_history\"]:\n",
    "                if op[\"operation\"] !=\"run\":\n",
    "                    battle_count += 1\n",
    "        res.append(battle_count)\n",
    "    return res"
   ]
  },
  {
   "cell_type": "code",
   "execution_count": 39,
   "metadata": {},
   "outputs": [],
   "source": [
    "def token_distribution(data):\n",
    "    token_list=[]\n",
    "    for battle in data:\n",
    "        token_list.append(battle[\"total_usage_token\"])\n",
    "    token_array=np.array(token_list)\n",
    "    mean = np.mean(token_array)\n",
    "    sigma = np.std(token_array,ddof=1)\n",
    "\n",
    "    x = np.linspace(mean - 3 * sigma, mean + 3 * sigma, 100)\n",
    "    pdf = norm.pdf(x, loc=mean, scale=sigma)\n",
    "    bins = np.linspace(min(token_list), max(token_list), 10)\n",
    "    counts, bin_edges = np.histogram(token_list, bins=bins)\n",
    "    \n",
    "    plt.hist(token_list, bins=bins, color='g', alpha=0.6, label='Histogram')\n",
    "    pdf_counts = pdf * (bin_edges[1] - bin_edges[0]) * len(token_list)\n",
    "    plt.plot(x, pdf_counts, color='r', label='Estimated Normal Distribution')\n",
    "    \n",
    "    plt.xlim(min(token_list), max(token_list))\n",
    "    plt.xlabel(\"$token$\")\n",
    "    plt.ylabel(\"$counts$\")\n",
    "    plt.legend(loc=\"best\")\n",
    "    plt.show()\n"
   ]
  },
  {
   "cell_type": "code",
   "execution_count": 40,
   "metadata": {},
   "outputs": [],
   "source": [
    "def single_operation_distribution(data):\n",
    "    user_input = input()\n",
    "    count=0\n",
    "    for battle in data:\n",
    "        for operation in battle[\"rounds\"][-1][\"operation_history\"]:\n",
    "            if operation[\"operation\"] == user_input:\n",
    "                count+=1\n",
    "    return user_input,count"
   ]
  },
  {
   "cell_type": "code",
   "execution_count": 41,
   "metadata": {},
   "outputs": [],
   "source": [
    "def operation_distribution(data,count_lists,fig, ax):\n",
    "    operation_counts = {}\n",
    "    unit_topics=[\"Cave\",\"\",\"\",\"\",\"\"]\n",
    "    for i in data:\n",
    "        countlist = []\n",
    "        user_input, count = single_operation_distribution(i)\n",
    "        countlist.append(count)\n",
    "        count_lists.append(countlist)\n",
    "        operation_counts[user_input]=countlist\n",
    "    \n",
    "    name_lists=list(operation_counts)\n",
    "    \n",
    "    bottom_2 = np.add(count_lists[0], count_lists[1])\n",
    "    bottom_3 = np.add(bottom_2, count_lists[2])\n",
    "    bottom_4 = np.add(bottom_3, count_lists[3])\n",
    "\n",
    "    # create plot here\n",
    "    ax.bar(range(len(count_lists[0])), count_lists[0], color=\"#D6E3B7\",label=name_lists[0])\n",
    "    ax.bar(range(len(count_lists[1])), count_lists[1], bottom = count_lists[0], color=\"#95A96A\",label=name_lists[1])\n",
    "    ax.bar(range(len(count_lists[2])), count_lists[2], bottom = bottom_2, color=\"#869E7A\",label=name_lists[2])\n",
    "    ax.bar(range(len(count_lists[3])), count_lists[3], bottom = bottom_3, color=\"#45602D\",label=name_lists[3])\n",
    "    ax.bar(range(len(count_lists[4])), count_lists[4], bottom = bottom_4, color=\"#AB9A6F\",label=name_lists[4])\n",
    "    ax.set_xticks(range(len(name_lists)))\n",
    "    ax.set_xticklabels(unit_topics)\n",
    "    ax.set_title(\"Counts Distribution\")\n",
    "    ax.set_xlabel(\"Fighting Place\")\n",
    "    ax.set_ylabel(\"Counts\")\n",
    "    ax.legend()\n",
    "    ax.show()\n",
    "        \n",
    "    "
   ]
  },
  {
   "cell_type": "code",
   "execution_count": 42,
   "metadata": {},
   "outputs": [
    {
     "name": "stdout",
     "output_type": "stream",
     "text": [
      "The number of operation(without runaway): [56, 56, 56, 56, 56]\n",
      "The number of valid run: [14, 14, 14, 14, 14]\n"
     ]
    },
    {
     "ename": "TypeError",
     "evalue": "list indices must be integers or slices, not str",
     "output_type": "error",
     "traceback": [
      "\u001b[1;31m---------------------------------------------------------------------------\u001b[0m",
      "\u001b[1;31mTypeError\u001b[0m                                 Traceback (most recent call last)",
      "Cell \u001b[1;32mIn[42], line 15\u001b[0m\n\u001b[0;32m     13\u001b[0m \u001b[38;5;28mprint\u001b[39m(\u001b[38;5;124m\"\u001b[39m\u001b[38;5;124mThe number of operation(without runaway):\u001b[39m\u001b[38;5;124m\"\u001b[39m,get_sub_battle(data_list))\n\u001b[0;32m     14\u001b[0m \u001b[38;5;28mprint\u001b[39m(\u001b[38;5;124m\"\u001b[39m\u001b[38;5;124mThe number of valid run:\u001b[39m\u001b[38;5;124m\"\u001b[39m,get_rounds(data_list))\n\u001b[1;32m---> 15\u001b[0m \u001b[43mtoken_distribution\u001b[49m\u001b[43m(\u001b[49m\u001b[43mdata_list\u001b[49m\u001b[43m)\u001b[49m\n\u001b[0;32m     16\u001b[0m operation_distribution(data_list,count_lists,fig,ax)\n",
      "Cell \u001b[1;32mIn[39], line 4\u001b[0m, in \u001b[0;36mtoken_distribution\u001b[1;34m(data)\u001b[0m\n\u001b[0;32m      2\u001b[0m token_list\u001b[38;5;241m=\u001b[39m[]\n\u001b[0;32m      3\u001b[0m \u001b[38;5;28;01mfor\u001b[39;00m battle \u001b[38;5;129;01min\u001b[39;00m data:\n\u001b[1;32m----> 4\u001b[0m     token_list\u001b[38;5;241m.\u001b[39mappend(\u001b[43mbattle\u001b[49m\u001b[43m[\u001b[49m\u001b[38;5;124;43m\"\u001b[39;49m\u001b[38;5;124;43mtotal_usage_token\u001b[39;49m\u001b[38;5;124;43m\"\u001b[39;49m\u001b[43m]\u001b[49m)\n\u001b[0;32m      5\u001b[0m token_array\u001b[38;5;241m=\u001b[39mnp\u001b[38;5;241m.\u001b[39marray(token_list)\n\u001b[0;32m      6\u001b[0m mean \u001b[38;5;241m=\u001b[39m np\u001b[38;5;241m.\u001b[39mmean(token_array)\n",
      "\u001b[1;31mTypeError\u001b[0m: list indices must be integers or slices, not str"
     ]
    },
    {
     "data": {
      "text/plain": [
       "<Figure size 640x480 with 0 Axes>"
      ]
     },
     "metadata": {},
     "output_type": "display_data"
    },
    {
     "data": {
      "image/png": "[encoded data removed]",
      "text/plain": [
       "<Figure size 640x480 with 1 Axes>"
      ]
     },
     "metadata": {},
     "output_type": "display_data"
    }
   ],
   "source": [
    "fig=plt.figure()\n",
    "ax  =  plt.subplots()\n",
    "count_lists=[]\n",
    "data_list=[]\n",
    "for i in range(5):\n",
    "    user_path = input()\n",
    "    file_path = Path(user_path).resolve()\n",
    "    if not file_path.exists():\n",
    "        print(\"The file does not exist.\")\n",
    "        exit(0)\n",
    "    with open(file_path, \"r\", encoding=\"utf-8\") as file:\n",
    "        data_list.append((json.loads(file.read())))\n",
    "print(\"The number of operation(without runaway):\",get_sub_battle(data_list))\n",
    "print(\"The number of valid run:\",get_rounds(data_list))\n",
    "token_distribution(data_list)\n",
    "operation_distribution(data_list,count_lists,fig,ax)"
   ]
  }
 ],
 "metadata": {
  "kernelspec": {
   "display_name": "Python 3.9.9 64-bit",
   "language": "python",
   "name": "python3"
  },
  "language_info": {
   "codemirror_mode": {
    "name": "ipython",
    "version": 3
   },
   "file_extension": ".py",
   "mimetype": "text/x-python",
   "name": "python",
   "nbconvert_exporter": "python",
   "pygments_lexer": "ipython3",
   "version": "3.9.9"
  },
  "vscode": {
   "interpreter": {
    "hash": "f7976576504ac6c456dadd405d7477574ca2a64265ee4724cfbc25daae5f6d94"
   }
  }
 },
 "nbformat": 4,
 "nbformat_minor": 2
}
