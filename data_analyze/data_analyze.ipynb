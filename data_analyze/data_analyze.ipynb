{
 "cells": [
  {
   "cell_type": "code",
   "execution_count": 11,
   "metadata": {},
   "outputs": [],
   "source": [
    "import json\n",
    "from pathlib import Path\n",
    "import numpy as np\n",
    "import matplotlib.pyplot as plt\n",
    "from scipy.stats import norm"
   ]
  },
  {
   "cell_type": "code",
   "execution_count": 12,
   "metadata": {},
   "outputs": [],
   "source": [
    "def get_rounds(data):\n",
    "    rounds_count = 0  \n",
    "    Flag = True\n",
    "    for battle in data:  \n",
    "        for operation in battle[\"rounds\"][-1][\"operation_history\"]:\n",
    "            if operation[\"operation\"]==\"run\":\n",
    "                Flag = False\n",
    "        if Flag:\n",
    "            rounds_count+=1\n",
    "    return rounds_count"
   ]
  },
  {
   "cell_type": "code",
   "execution_count": 13,
   "metadata": {},
   "outputs": [],
   "source": [
    "def get_sub_battle(data):\n",
    "    battle_count = 0\n",
    "    for battle in data:\n",
    "        for op in battle[\"rounds\"][-1][\"operation_history\"]:\n",
    "            try:\n",
    "                int(op[\"operation\"])\n",
    "                battle_count += 1\n",
    "            except ValueError:\n",
    "                ...\n",
    "    return battle_count"
   ]
  },
  {
   "cell_type": "code",
   "execution_count": 14,
   "metadata": {},
   "outputs": [],
   "source": [
    "def token_distribution(data):\n",
    "    token_list=[]\n",
    "    for battle in data:\n",
    "        token_list.append(battle[\"total_usage_token\"])\n",
    "    token_array=np.array(token_list)\n",
    "    mean = np.mean(token_array)\n",
    "    sigma = np.std(token_array,ddof=1)\n",
    "    x = np.linspace(mean - 3 * sigma, mean + 3 * sigma, 100)\n",
    "    pdf = norm.pdf(x, loc = mean, scale = sigma)\n",
    "    plt.hist(token_list, bins=10)\n",
    "    plt.plot(x, pdf, color='r', label='Estimated Normal Distribution')\n",
    "    plt.xlim(400,2500)\n",
    "    plt.xlabel(\"$token$\")\n",
    "    plt.ylabel(\"$count$\")\n",
    "    plt.show()"
   ]
  },
  {
   "cell_type": "code",
   "execution_count": 15,
   "metadata": {},
   "outputs": [],
   "source": [
    "user_path = input()\n",
    "file_path = Path(user_path).resolve()\n",
    "if not file_path.exists():\n",
    "    print(\"The file does not exist.\")\n",
    "    exit(0)\n",
    "with open(file_path, \"r\", encoding=\"utf-8\") as file:\n",
    "    data = json.loads(file.read())\n",
    "print(get_sub_battle(data))\n",
    "print(get_rounds(data))\n",
    "token_distribution(data)"
   ]
  }
 ],
 "metadata": {
  "kernelspec": {
   "display_name": "Python 3",
   "language": "python",
   "name": "python3"
  },
  "language_info": {
   "codemirror_mode": {
    "name": "ipython",
    "version": 3
   },
   "file_extension": ".py",
   "mimetype": "text/x-python",
   "name": "python",
   "nbconvert_exporter": "python",
   "pygments_lexer": "ipython3",
   "version": "3.10.12"
  }
 },
 "nbformat": 4,
 "nbformat_minor": 2
}
