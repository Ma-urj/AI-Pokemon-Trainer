{
 "cells": [
  {
   "cell_type": "code",
   "execution_count": 46,
   "metadata": {},
   "outputs": [],
   "source": [
    "import json\n",
    "from pathlib import Path\n",
    "import numpy as np\n",
    "import matplotlib.pyplot as plt\n",
    "from scipy.stats import norm"
   ]
  },
  {
   "cell_type": "code",
   "execution_count": 47,
   "metadata": {},
   "outputs": [],
   "source": [
    "def get_rounds(data):\n",
    "    rounds_count = 0  \n",
    "    Flag = True\n",
    "    for battle in data:  \n",
    "        for operation in battle[\"rounds\"][-1][\"operation_history\"]:\n",
    "            if operation[\"operation\"]==\"run\":\n",
    "                Flag = False\n",
    "        if Flag:\n",
    "            rounds_count+=1\n",
    "    return rounds_count"
   ]
  },
  {
   "cell_type": "code",
   "execution_count": 48,
   "metadata": {},
   "outputs": [],
   "source": [
    "def get_sub_battle(data):\n",
    "    battle_count = 0\n",
    "    for battle in data:\n",
    "        for op in battle[\"rounds\"][-1][\"operation_history\"]:\n",
    "            try:\n",
    "                int(op[\"operation\"])\n",
    "                battle_count += 1\n",
    "            except ValueError:\n",
    "                ...\n",
    "    return battle_count"
   ]
  },
  {
   "cell_type": "code",
   "execution_count": 49,
   "metadata": {},
   "outputs": [],
   "source": [
    "def token_distribution(data):\n",
    "    token_list=[]\n",
    "    for battle in data:\n",
    "        token_list.append(battle[\"total_usage_token\"])\n",
    "    token_array=np.array(token_list)\n",
    "    mean = np.mean(token_array)\n",
    "    sigma = np.std(token_array,ddof=1)\n",
    "    print(mean)\n",
    "    print(sigma)\n",
    "\n",
    "    x = np.linspace(mean - 3 * sigma, mean + 3 * sigma, 100)\n",
    "    pdf = norm.pdf(x, loc=mean, scale=sigma)\n",
    "    bins = np.linspace(min(token_list), max(token_list), 10)\n",
    "    counts, bin_edges = np.histogram(token_list, bins=bins)\n",
    "    \n",
    "    plt.hist(token_list, bins=bins, color='g', alpha=0.6, label='Histogram')\n",
    "    pdf_counts = pdf * (bin_edges[1] - bin_edges[0]) * len(token_list)\n",
    "    plt.plot(x, pdf_counts, color='r', label='Estimated Normal Distribution')\n",
    "    \n",
    "    plt.xlim(min(token_list), max(token_list))\n",
    "    plt.xlabel(\"$token$\")\n",
    "    plt.ylabel(\"$counts$\")\n",
    "    plt.legend(loc=\"best\")\n",
    "    plt.show()\n"
   ]
  },
  {
   "cell_type": "code",
   "execution_count": 50,
   "metadata": {},
   "outputs": [
    {
     "name": "stdout",
     "output_type": "stream",
     "text": [
      "43\n",
      "14\n",
      "3236.5\n",
      "2769.2228776596958\n"
     ]
    },
    {
     "data": {
      "image/png": "[encoded data removed]",
      "text/plain": [
       "<Figure size 640x480 with 1 Axes>"
      ]
     },
     "metadata": {},
     "output_type": "display_data"
    }
   ],
   "source": [
    "user_path = input()\n",
    "file_path = Path(user_path).resolve()\n",
    "if not file_path.exists():\n",
    "    print(\"The file does not exist.\")\n",
    "    exit(0)\n",
    "with open(file_path, \"r\", encoding=\"utf-8\") as file:\n",
    "    data = json.loads(file.read())\n",
    "print(get_sub_battle(data))\n",
    "print(get_rounds(data))\n",
    "token_distribution(data)"
   ]
  }
 ],
 "metadata": {
  "kernelspec": {
   "display_name": "Python 3.9.9 64-bit",
   "language": "python",
   "name": "python3"
  },
  "language_info": {
   "codemirror_mode": {
    "name": "ipython",
    "version": 3
   },
   "file_extension": ".py",
   "mimetype": "text/x-python",
   "name": "python",
   "nbconvert_exporter": "python",
   "pygments_lexer": "ipython3",
   "version": "3.9.9"
  },
  "vscode": {
   "interpreter": {
    "hash": "f7976576504ac6c456dadd405d7477574ca2a64265ee4724cfbc25daae5f6d94"
   }
  }
 },
 "nbformat": 4,
 "nbformat_minor": 2
}
