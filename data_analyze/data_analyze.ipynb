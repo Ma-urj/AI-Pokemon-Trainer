{
 "cells": [
  {
   "cell_type": "code",
   "execution_count": 73,
   "metadata": {},
   "outputs": [],
   "source": [
    "import json\n",
    "from pathlib import Path\n",
    "import numpy as np\n",
    "import matplotlib.pyplot as plt\n",
    "from scipy import stats\n",
    "from scipy.stats import norm"
   ]
  },
  {
   "cell_type": "code",
   "execution_count": 74,
   "metadata": {},
   "outputs": [],
   "source": [
    "def get_battle(model_list):\n",
    "    model_battle_list = []\n",
    "    for test_list in model_list:\n",
    "        test_battle_list=[]\n",
    "        for data in test_list:\n",
    "            rounds_count = 0\n",
    "            for battle in data:\n",
    "                Flag = True\n",
    "                if battle[\"last_operation\"][\"decision\"]==\"run\":\n",
    "                    Flag = False\n",
    "                if Flag:\n",
    "                    rounds_count+=1\n",
    "        test_battle_list.append(rounds_count/50)\n",
    "        print(test_battle_list)\n",
    "    model_battle_list.append(test_battle_list)\n",
    "    return model_battle_list"
   ]
  },
  {
   "cell_type": "code",
   "execution_count": 75,
   "metadata": {},
   "outputs": [],
   "source": [
    "def get_mean_and_se(model_battle_list):\n",
    "    mean_list = []\n",
    "    se_list = []\n",
    "    for test_battle_list in model_battle_list:\n",
    "        mean = np.mean(test_battle_list)\n",
    "        se= stats.sem(test_battle_list)\n",
    "        mean_list.append(mean)\n",
    "        se_list.append(se)\n",
    "    return mean_list, se_list"
   ]
  },
  {
   "cell_type": "code",
   "execution_count": 76,
   "metadata": {},
   "outputs": [],
   "source": [
    "def get_sub_battle(data_list):\n",
    "    res = []\n",
    "    for data in data_list:\n",
    "        battle_count = 0\n",
    "        for battle in data:\n",
    "            for op in battle[\"rounds\"][-1][\"operation_history\"]:\n",
    "                if op[\"operation\"] !=\"run\":\n",
    "                    battle_count += 1\n",
    "        res.append(battle_count)\n",
    "    return res"
   ]
  },
  {
   "cell_type": "code",
   "execution_count": 77,
   "metadata": {},
   "outputs": [],
   "source": [
    "def token_distribution(data_list):\n",
    "    token_list=[]\n",
    "    for data in data_list:\n",
    "        for battle in data:\n",
    "            token_list.append(battle[\"total_usage_token\"])\n",
    "    token_array=np.array(token_list)\n",
    "    mean = np.mean(token_array)\n",
    "    sigma = np.std(token_array,ddof=1)\n",
    "\n",
    "    x = np.linspace(mean - 3 * sigma, mean + 3 * sigma, 100)\n",
    "    pdf = norm.pdf(x, loc=mean, scale=sigma)\n",
    "    bins = np.linspace(min(token_list), max(token_list), 10)\n",
    "    counts, bin_edges = np.histogram(token_list, bins=bins)\n",
    "    \n",
    "    plt.hist(token_list, bins=bins, color='g', alpha=0.6, label='Histogram')\n",
    "    pdf_counts = pdf * (bin_edges[1] - bin_edges[0]) * len(token_list)\n",
    "    plt.plot(x, pdf_counts, color='r', label='Estimated Normal Distribution')\n",
    "    \n",
    "    plt.xlim(min(token_list), max(token_list))\n",
    "    plt.xlabel(\"$token$\")\n",
    "    plt.ylabel(\"$counts$\")\n",
    "    plt.legend(loc=\"best\")\n",
    "    plt.show()\n"
   ]
  },
  {
   "cell_type": "code",
   "execution_count": 78,
   "metadata": {},
   "outputs": [],
   "source": [
    "def single_operation_distribution(data):\n",
    "    user_input = input()\n",
    "    count=0\n",
    "    for battle in data:\n",
    "        for operation in battle[\"rounds\"][-1][\"operation_history\"]:\n",
    "            if operation[\"operation\"] == user_input:\n",
    "                count+=1\n",
    "    return user_input,count"
   ]
  },
  {
   "cell_type": "code",
   "execution_count": 79,
   "metadata": {
    "scrolled": true
   },
   "outputs": [],
   "source": [
    "def operation_distribution(data,count_lists,fig, ax):\n",
    "    operation_counts = {}\n",
    "    unit_topics=[\"Cave\",\"\",\"\",\"\",\"\"]\n",
    "    for i in data:\n",
    "        countlist = []\n",
    "        user_input, count = single_operation_distribution(i)\n",
    "        countlist.append(count)\n",
    "        count_lists.append(countlist)\n",
    "        operation_counts[user_input]=countlist\n",
    "    \n",
    "    name_lists=list(operation_counts)\n",
    "    print(name_lists)\n",
    "    \n",
    "    bottom_2 = np.add(count_lists[0], count_lists[1])\n",
    "    bottom_3 = np.add(bottom_2, count_lists[2])\n",
    "    bottom_4 = np.add(bottom_3, count_lists[3])\n",
    "\n",
    "    # create plot here\n",
    "    ax.bar(range(len(count_lists[0])), count_lists[0], color=\"#D6E3B7\",label=name_lists[0])\n",
    "    ax.bar(range(len(count_lists[1])), count_lists[1], bottom = count_lists[0], color=\"#95A96A\",label=name_lists[1])\n",
    "    ax.bar(range(len(count_lists[2])), count_lists[2], bottom = bottom_2, color=\"#869E7A\",label=name_lists[2])\n",
    "    ax.bar(range(len(count_lists[3])), count_lists[3], bottom = bottom_3, color=\"#45602D\",label=name_lists[3])\n",
    "    ax.bar(range(len(count_lists[4])), count_lists[4], bottom = bottom_4, color=\"#AB9A6F\",label=name_lists[4])\n",
    "    ax.set_xticks(range(len(name_lists)))\n",
    "    ax.set_xticklabels(unit_topics)\n",
    "    ax.set_title(\"Counts Distribution\")\n",
    "    ax.set_xlabel(\"Fighting Place\")\n",
    "    ax.set_ylabel(\"Counts\")\n",
    "    ax.legend()\n",
    "    ax.show()\n",
    "        \n",
    "    "
   ]
  },
  {
   "cell_type": "code",
   "execution_count": 80,
   "metadata": {},
   "outputs": [],
   "source": [
    "def mean_bar_plot(fig, ax, mean_list, se_list):\n",
    "    \n",
    "    topics_list = [\"DeepSeek\"]\n",
    "    ax.set_xlabel(\"Model\")\n",
    "    ax.set_ylabel(\"Percentage of Battles Won, (%)\")\n",
    "    bars = ax.bar(topics_list, mean_list, color=['#1f77b4', '#ff7f0e', '#2ca02c'], alpha=0.8)\n",
    "    ax.errorbar(topics_list, mean_list, yerr=se_list, fmt='o',ecolor='black')\n",
    "    plt.show()\n",
    "    \n",
    "    "
   ]
  },
  {
   "cell_type": "code",
   "execution_count": 81,
   "metadata": {},
   "outputs": [
    {
     "name": "stdout",
     "output_type": "stream",
     "text": [
      "[0.6]\n",
      "The number of valid run: [[0.6]]\n"
     ]
    },
    {
     "data": {
      "image/png": "[encoded data removed]",
      "text/plain": [
       "<Figure size 640x480 with 1 Axes>"
      ]
     },
     "metadata": {},
     "output_type": "display_data"
    },
    {
     "data": {
      "text/plain": [
       "'\\noperation_distribution(data_list,count_lists,fig,ax)\\n'"
      ]
     },
     "execution_count": 81,
     "metadata": {},
     "output_type": "execute_result"
    }
   ],
   "source": [
    "fig=plt.figure()\n",
    "ax=fig.subplots()\n",
    "#count_lists=[]\n",
    "num_test = int(input(\"the number of test in one model\"))\n",
    "num_model =int(input(\"the number of model completely\"))\n",
    "model_list=[]\n",
    "for i in range(num_model):\n",
    "    test_list=[]\n",
    "    for j in range(num_test):\n",
    "        user_path = input()\n",
    "        file_path = Path(user_path).resolve()\n",
    "        if not file_path.exists():\n",
    "            print(\"The file does not exist.\")\n",
    "            exit(0)\n",
    "        with open(file_path, \"r\", encoding=\"utf-8\") as file:\n",
    "            test_list.append((json.loads(file.read())))\n",
    "    model_list.append(test_list)\n",
    "#print(\"The number of operation(without runaway):\",get_sub_battle(data_list))\n",
    "\n",
    "model_battle_list = get_battle(model_list)\n",
    "print(\"The number of valid run:\",model_battle_list)\n",
    "mean_list, se_list = get_mean_and_se(model_battle_list)\n",
    "mean_bar_plot(fig,ax,mean_list, se_list)\n",
    "#token_distribution(data_list)\n",
    "\"\"\"\n",
    "operation_distribution(data_list,count_lists,fig,ax)\n",
    "\"\"\""
   ]
  },
  {
   "cell_type": "code",
   "execution_count": null,
   "metadata": {},
   "outputs": [],
   "source": []
  }
 ],
 "metadata": {
  "kernelspec": {
   "display_name": "Python 3 (ipykernel)",
   "language": "python",
   "name": "python3"
  },
  "language_info": {
   "codemirror_mode": {
    "name": "ipython",
    "version": 3
   },
   "file_extension": ".py",
   "mimetype": "text/x-python",
   "name": "python",
   "nbconvert_exporter": "python",
   "pygments_lexer": "ipython3",
   "version": "3.9.9"
  },
  "vscode": {
   "interpreter": {
    "hash": "f7976576504ac6c456dadd405d7477574ca2a64265ee4724cfbc25daae5f6d94"
   }
  }
 },
 "nbformat": 4,
 "nbformat_minor": 4
}
